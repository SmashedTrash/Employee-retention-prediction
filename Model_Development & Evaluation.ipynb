{
 "cells": [
  {
   "cell_type": "markdown",
   "metadata": {},
   "source": [
    "<h1>MODEL DEVELOPMENT AND EVALUATION</h1>"
   ]
  },
  {
   "cell_type": "code",
   "execution_count": 17,
   "metadata": {
    "_cell_guid": "d504d589-e272-440f-a282-6cf199a2bda1",
    "_execution_state": "idle",
    "_uuid": "01ada3f99ede9ee8326d05a30dbd695153c67d5f"
   },
   "outputs": [],
   "source": [
    "import pandas as pd\n",
    "import numpy as np\n",
    "from pandas import DataFrame\n",
    "%matplotlib inline\n",
    "import matplotlib.pyplot as plt\n",
    "import seaborn as sns\n",
    "\n",
    "from sklearn import preprocessing\n",
    "import math\n",
    "from sklearn.model_selection import train_test_split\n",
    "from sklearn import metrics\n",
    "import joblib"
   ]
  },
  {
   "cell_type": "code",
   "execution_count": 18,
   "metadata": {
    "_cell_guid": "cfcb2e3d-3093-469a-a3fa-ef852222a956",
    "_execution_state": "idle",
    "_uuid": "ed556f53b7f61acc83e255ac337f90ecd0d54579"
   },
   "outputs": [],
   "source": [
    "data = pd.read_csv('./datasets/WA_Fn-UseC_-HR-Employee-Attrition.csv')\n",
    "data = data.drop(columns=['StandardHours','EmployeeCount','Over18','EmployeeNumber','StockOptionLevel'])\n",
    "\n",
    "le = preprocessing.LabelEncoder()\n",
    "categorial_variables = ['Attrition','BusinessTravel','Department','EducationField',\n",
    "                        'Gender','JobRole','MaritalStatus','OverTime']\n",
    "for i in categorial_variables:\n",
    "    data[i] = le.fit_transform(data[i])\n",
    "data.head(5)\n",
    "data.to_csv('./datasets/LabelEncoded_CleanData.csv')"
   ]
  },
  {
   "cell_type": "code",
   "execution_count": 19,
   "metadata": {
    "_cell_guid": "86f62779-82a0-48bf-875f-b6cc92c93a61",
    "_execution_state": "idle",
    "_uuid": "0ac504b08d22cbef28aec571b695c7287608b6d3"
   },
   "outputs": [
    {
     "data": {
      "text/plain": [
       "(1470, 29)"
      ]
     },
     "execution_count": 19,
     "metadata": {},
     "output_type": "execute_result"
    }
   ],
   "source": [
    "target = data['Attrition']\n",
    "train = data.drop('Attrition',axis = 1)\n",
    "train.shape"
   ]
  },
  {
   "cell_type": "markdown",
   "metadata": {},
   "source": [
    "<h3>Implementation of all the popular classifiers in scikit-learn</h3>"
   ]
  },
  {
   "cell_type": "markdown",
   "metadata": {
    "_cell_guid": "5fbaab77-d65a-4795-b51f-d35d2aabb4df",
    "_uuid": "f17e1fcc4cd29cd053846b5ff3fd63b5bd0421c1"
   },
   "source": [
    "1. *Logistic Regression*\n",
    "1. *SVM*\n",
    "1. *KNN*\n",
    "1. *Decision Tree*\n",
    "1. *K Means Clustering*"
   ]
  },
  {
   "cell_type": "code",
   "execution_count": 20,
   "metadata": {
    "_cell_guid": "cf96c6d6-f950-4750-9d4e-a4d54b92bb94",
    "_execution_state": "idle",
    "_uuid": "67bf8bd1e68014d59c61c00fa40919f970a24bd5"
   },
   "outputs": [],
   "source": [
    "train_accuracy = []\n",
    "test_accuracy = []\n",
    "models = ['Logistic Regression','SVM','KNN','Decision Tree','K Means Clustering']"
   ]
  },
  {
   "cell_type": "code",
   "execution_count": 21,
   "metadata": {
    "_cell_guid": "af44de5c-91d5-4a43-97a4-d9ae8ae58915",
    "_execution_state": "idle",
    "_uuid": "d5379b43332d6113c5699751073c16a7631cae08"
   },
   "outputs": [],
   "source": [
    "#Defining a function which will give us train and test accuracy for each classifier.\n",
    "def train_test_error(y_train,y_test):\n",
    "    train_error = ((y_train==Y_train).sum())/len(y_train)*100\n",
    "    test_error = ((y_test==Y_test).sum())/len(Y_test)*100\n",
    "    train_accuracy.append(train_error)\n",
    "    test_accuracy.append(test_error)\n",
    "    print('{}'.format(train_error) + \" is the train accuracy\")\n",
    "    print('{}'.format(test_error) + \" is the test accuracy\")"
   ]
  },
  {
   "cell_type": "code",
   "execution_count": 22,
   "metadata": {
    "_cell_guid": "1a49909b-5a8f-47d5-8414-6931c4c9a030",
    "_execution_state": "idle",
    "_uuid": "ea16f079d4f5b5b94e0bbb7a6a489528566ca1bb"
   },
   "outputs": [],
   "source": [
    "X_train, X_test, Y_train, Y_test = train_test_split(train, target, test_size=0.33, random_state=42)"
   ]
  },
  {
   "cell_type": "markdown",
   "metadata": {
    "_cell_guid": "12b5f240-ea69-4446-af81-1992122a6b3a",
    "_execution_state": "idle",
    "_uuid": "eb0968b0a541a2d752705e4462948c9dff7c3227"
   },
   "source": [
    "## Logistic Regression"
   ]
  },
  {
   "cell_type": "code",
   "execution_count": 23,
   "metadata": {
    "_cell_guid": "d8f2f488-1e0e-499a-8f13-84761d24ae58",
    "_execution_state": "idle",
    "_uuid": "4251383045bbac0a3ee4df4bdf104c1019924bb0"
   },
   "outputs": [
    {
     "name": "stdout",
     "output_type": "stream",
     "text": [
      "86.99186991869918 is the train accuracy\n",
      "86.0082304526749 is the test accuracy\n"
     ]
    }
   ],
   "source": [
    "from sklearn.linear_model import LogisticRegression\n",
    "log_reg = LogisticRegression(max_iter=5000)\n",
    "log_reg.fit(X_train,Y_train)\n",
    "train_predict = log_reg.predict(X_train)\n",
    "test_predict = log_reg.predict(X_test)\n",
    "y_prob = log_reg.predict(train)\n",
    "y_pred = np.where(y_prob > 0.5, 1, 0)\n",
    "train_test_error(train_predict , test_predict)"
   ]
  },
  {
   "cell_type": "code",
   "execution_count": 25,
   "metadata": {},
   "outputs": [
    {
     "data": {
      "text/plain": [
       "['trained_model']"
      ]
     },
     "execution_count": 25,
     "metadata": {},
     "output_type": "execute_result"
    }
   ],
   "source": [
    "filename = \"trained_model\"\n",
    "joblib.dump(log_reg,filename)"
   ]
  },
  {
   "cell_type": "markdown",
   "metadata": {
    "_cell_guid": "cdb55c5f-9d67-48b2-ba68-fd40328d7341",
    "_execution_state": "idle",
    "_uuid": "b29128268543554751d345cc471ff53e96e4caa1"
   },
   "source": [
    "## SVM"
   ]
  },
  {
   "cell_type": "code",
   "execution_count": 8,
   "metadata": {
    "_cell_guid": "302fb98f-9558-4444-b71b-725f96e36e24",
    "_execution_state": "idle",
    "_uuid": "118d758e5018f875b10ab93ab6709bb7cd4c471b"
   },
   "outputs": [
    {
     "name": "stdout",
     "output_type": "stream",
     "text": [
      "83.02845528455285 is the train accuracy\n",
      "85.59670781893004 is the test accuracy\n"
     ]
    }
   ],
   "source": [
    "from sklearn import svm\n",
    "SVM = svm.SVC(probability=True)\n",
    "SVM.fit(X_train,Y_train)\n",
    "train_predict = SVM.predict(X_train)\n",
    "test_predict = SVM.predict(X_test)\n",
    "train_test_error(train_predict , test_predict)"
   ]
  },
  {
   "cell_type": "markdown",
   "metadata": {
    "_cell_guid": "50a8622c-02af-4772-a84d-3b341fcbd55a",
    "_execution_state": "idle",
    "_uuid": "202124650a94ee813fea79a5ec7a8a44f696d670"
   },
   "source": [
    "## KNN"
   ]
  },
  {
   "cell_type": "code",
   "execution_count": 9,
   "metadata": {
    "_cell_guid": "55d71c18-0f41-4e0d-9155-ce55930225f7",
    "_execution_state": "idle",
    "_uuid": "265cc626fc3d924d0e4743198976bffe6c2fcd89"
   },
   "outputs": [
    {
     "name": "stdout",
     "output_type": "stream",
     "text": [
      "100.0 is the train accuracy\n",
      "84.5679012345679 is the test accuracy\n"
     ]
    }
   ],
   "source": [
    "from sklearn import neighbors\n",
    "n_neighbors = 15\n",
    "knn = neighbors.KNeighborsClassifier(n_neighbors, weights='distance')\n",
    "knn.fit(X_train,Y_train)\n",
    "train_predict = knn.predict(X_train)\n",
    "test_predict = knn.predict(X_test)\n",
    "train_test_error(train_predict , test_predict)"
   ]
  },
  {
   "cell_type": "markdown",
   "metadata": {
    "_cell_guid": "a1d2b90e-234b-4706-bcf6-e878db5c16f6",
    "_execution_state": "idle",
    "_uuid": "a633cc8409d0bf98adeab5ce694c52010977f5be"
   },
   "source": [
    "## Decision Tree"
   ]
  },
  {
   "cell_type": "code",
   "execution_count": 10,
   "metadata": {
    "_cell_guid": "c939cc42-2559-4655-9a1f-193fe3b9fdd5",
    "_execution_state": "idle",
    "_uuid": "659c54ebe19915505fbfe3a0d04d85a68ee5d8e0"
   },
   "outputs": [
    {
     "name": "stdout",
     "output_type": "stream",
     "text": [
      "100.0 is the train accuracy\n",
      "79.21810699588477 is the test accuracy\n"
     ]
    }
   ],
   "source": [
    "from sklearn import tree\n",
    "dec = tree.DecisionTreeClassifier()\n",
    "dec.fit(X_train,Y_train)\n",
    "train_predict = dec.predict(X_train)\n",
    "test_predict = dec.predict(X_test)\n",
    "train_test_error(train_predict , test_predict)"
   ]
  },
  {
   "cell_type": "markdown",
   "metadata": {
    "_cell_guid": "1e49871b-9af7-4722-8539-7d7fae04bc91",
    "_execution_state": "idle",
    "_uuid": "c6a0592a9b728b1deccc3a230965939fa0ec01a2"
   },
   "source": [
    "## K-MEANS CLUSTERING"
   ]
  },
  {
   "cell_type": "code",
   "execution_count": 11,
   "metadata": {
    "_cell_guid": "e012f3e7-1bc2-488c-b0a5-4e49a78020d9",
    "_execution_state": "idle",
    "_uuid": "da8248edb828df15d70d87ba74ab6d43a3294242"
   },
   "outputs": [
    {
     "name": "stdout",
     "output_type": "stream",
     "text": [
      "50.0 is the train accuracy\n",
      "49.17695473251029 is the test accuracy\n"
     ]
    }
   ],
   "source": [
    "from sklearn.cluster import KMeans\n",
    "kms = KMeans(n_clusters=2, random_state=1)\n",
    "kms.fit(X_train,Y_train)\n",
    "train_predict = kms.predict(X_train)\n",
    "test_predict = kms.predict(X_test)\n",
    "train_test_error(train_predict,test_predict)"
   ]
  },
  {
   "cell_type": "code",
   "execution_count": 12,
   "metadata": {
    "_cell_guid": "0bd1a70c-acf9-4c99-8a40-eaf187859612",
    "_execution_state": "idle",
    "_uuid": "90b6a319bd319a19a338bcd091e548a51ce867b1"
   },
   "outputs": [],
   "source": [
    "results = DataFrame({\"Test Accuracy\" : test_accuracy , \"Train Accuracy\" : train_accuracy} , index = models)"
   ]
  },
  {
   "cell_type": "code",
   "execution_count": 13,
   "metadata": {
    "_cell_guid": "ccdeb09b-c4c5-49f1-9555-9223515e405c",
    "_execution_state": "idle",
    "_uuid": "962df2cdf80a7bd4af1c57b58699ca9d8d4a8235"
   },
   "outputs": [
    {
     "data": {
      "text/html": [
       "<div>\n",
       "<style scoped>\n",
       "    .dataframe tbody tr th:only-of-type {\n",
       "        vertical-align: middle;\n",
       "    }\n",
       "\n",
       "    .dataframe tbody tr th {\n",
       "        vertical-align: top;\n",
       "    }\n",
       "\n",
       "    .dataframe thead th {\n",
       "        text-align: right;\n",
       "    }\n",
       "</style>\n",
       "<table border=\"1\" class=\"dataframe\">\n",
       "  <thead>\n",
       "    <tr style=\"text-align: right;\">\n",
       "      <th></th>\n",
       "      <th>Test Accuracy</th>\n",
       "      <th>Train Accuracy</th>\n",
       "    </tr>\n",
       "  </thead>\n",
       "  <tbody>\n",
       "    <tr>\n",
       "      <th>Logistic Regression</th>\n",
       "      <td>85.390947</td>\n",
       "      <td>83.739837</td>\n",
       "    </tr>\n",
       "    <tr>\n",
       "      <th>SVM</th>\n",
       "      <td>85.596708</td>\n",
       "      <td>83.028455</td>\n",
       "    </tr>\n",
       "    <tr>\n",
       "      <th>KNN</th>\n",
       "      <td>84.567901</td>\n",
       "      <td>100.000000</td>\n",
       "    </tr>\n",
       "    <tr>\n",
       "      <th>Decision Tree</th>\n",
       "      <td>79.218107</td>\n",
       "      <td>100.000000</td>\n",
       "    </tr>\n",
       "    <tr>\n",
       "      <th>K Means Clustering</th>\n",
       "      <td>49.176955</td>\n",
       "      <td>50.000000</td>\n",
       "    </tr>\n",
       "  </tbody>\n",
       "</table>\n",
       "</div>"
      ],
      "text/plain": [
       "                     Test Accuracy  Train Accuracy\n",
       "Logistic Regression      85.390947       83.739837\n",
       "SVM                      85.596708       83.028455\n",
       "KNN                      84.567901      100.000000\n",
       "Decision Tree            79.218107      100.000000\n",
       "K Means Clustering       49.176955       50.000000"
      ]
     },
     "execution_count": 13,
     "metadata": {},
     "output_type": "execute_result"
    }
   ],
   "source": [
    "results"
   ]
  },
  {
   "cell_type": "markdown",
   "metadata": {
    "_cell_guid": "1c462dcc-2c9f-4d95-80a0-3c6a25929aa1",
    "_execution_state": "idle",
    "_uuid": "243e70d89ffef8c1d73583750d8d354294a24413"
   },
   "source": [
    "**Since Logistic Regression has the highest test accuracy, Logistic regression is the winner**\n"
   ]
  }
 ],
 "metadata": {
  "kernelspec": {
   "display_name": "Python 3 (ipykernel)",
   "language": "python",
   "name": "python3"
  },
  "language_info": {
   "codemirror_mode": {
    "name": "ipython",
    "version": 3
   },
   "file_extension": ".py",
   "mimetype": "text/x-python",
   "name": "python",
   "nbconvert_exporter": "python",
   "pygments_lexer": "ipython3",
   "version": "3.9.4"
  }
 },
 "nbformat": 4,
 "nbformat_minor": 2
}
